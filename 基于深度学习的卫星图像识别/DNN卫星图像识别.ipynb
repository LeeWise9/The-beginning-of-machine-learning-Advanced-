{
 "cells": [
  {
   "cell_type": "markdown",
   "metadata": {},
   "source": [
    "### 利用深度学习识别卫星数据\n",
    "\n",
    "在本次作业中我们将会使用深度学习来解决分类问题。 给定的数据在 “point_data.csv”文件里，这个数据总共包含了5个类别（由Class_ID来区分）, 并包括10个特征。在这里，我们需要搭建多层的神经网络（具体细节在下面给出），并利用这个网络来识别分类。"
   ]
  },
  {
   "cell_type": "code",
   "execution_count": 1,
   "metadata": {},
   "outputs": [
    {
     "name": "stderr",
     "output_type": "stream",
     "text": [
      "Using TensorFlow backend.\n"
     ]
    }
   ],
   "source": [
    "# 导入library\n",
    "import numpy as np\n",
    "import matplotlib.pyplot as plt\n",
    "import pandas as pd\n",
    "\n",
    "# TODO 导入跟keras相关的libraray\n",
    "\n",
    "\n",
    "# 以下是跟sklearn相关的库\n",
    "from sklearn.model_selection import train_test_split\n",
    "from sklearn import preprocessing\n",
    "from sklearn.metrics import f1_score\n",
    "from sklearn import metrics\n",
    "\n",
    "import seaborn as sns\n",
    "import keras\n",
    "from   keras.optimizers import SGD"
   ]
  },
  {
   "cell_type": "code",
   "execution_count": 2,
   "metadata": {},
   "outputs": [],
   "source": [
    "# 导入数据\n",
    "\n",
    "# TODO 设置数据文件的位置(path)\n",
    "filename = 'point_data.csv'\n",
    "dataset = pd.read_csv(filename)\n",
    "#list(dataset)"
   ]
  },
  {
   "cell_type": "code",
   "execution_count": 3,
   "metadata": {},
   "outputs": [
    {
     "data": {
      "text/html": [
       "<div>\n",
       "<style scoped>\n",
       "    .dataframe tbody tr th:only-of-type {\n",
       "        vertical-align: middle;\n",
       "    }\n",
       "\n",
       "    .dataframe tbody tr th {\n",
       "        vertical-align: top;\n",
       "    }\n",
       "\n",
       "    .dataframe thead th {\n",
       "        text-align: right;\n",
       "    }\n",
       "</style>\n",
       "<table border=\"1\" class=\"dataframe\">\n",
       "  <thead>\n",
       "    <tr style=\"text-align: right;\">\n",
       "      <th></th>\n",
       "      <th>x</th>\n",
       "      <th>y</th>\n",
       "      <th>Class_ID</th>\n",
       "      <th>B2</th>\n",
       "      <th>B3</th>\n",
       "      <th>B4</th>\n",
       "      <th>B5</th>\n",
       "      <th>B6</th>\n",
       "      <th>B7</th>\n",
       "      <th>B8</th>\n",
       "      <th>B8A</th>\n",
       "      <th>B11</th>\n",
       "      <th>B12</th>\n",
       "      <th>Class</th>\n",
       "      <th>Description</th>\n",
       "    </tr>\n",
       "  </thead>\n",
       "  <tbody>\n",
       "    <tr>\n",
       "      <th>0</th>\n",
       "      <td>678191.453655</td>\n",
       "      <td>4.764069e+06</td>\n",
       "      <td>2</td>\n",
       "      <td>616</td>\n",
       "      <td>682</td>\n",
       "      <td>655</td>\n",
       "      <td>767</td>\n",
       "      <td>1669</td>\n",
       "      <td>1669</td>\n",
       "      <td>1922</td>\n",
       "      <td>2414</td>\n",
       "      <td>1726</td>\n",
       "      <td>1115</td>\n",
       "      <td>Class_2</td>\n",
       "      <td>Building</td>\n",
       "    </tr>\n",
       "    <tr>\n",
       "      <th>1</th>\n",
       "      <td>678193.971301</td>\n",
       "      <td>4.764069e+06</td>\n",
       "      <td>2</td>\n",
       "      <td>616</td>\n",
       "      <td>682</td>\n",
       "      <td>655</td>\n",
       "      <td>767</td>\n",
       "      <td>1669</td>\n",
       "      <td>1669</td>\n",
       "      <td>1922</td>\n",
       "      <td>2414</td>\n",
       "      <td>1726</td>\n",
       "      <td>1115</td>\n",
       "      <td>Class_2</td>\n",
       "      <td>Building</td>\n",
       "    </tr>\n",
       "    <tr>\n",
       "      <th>2</th>\n",
       "      <td>678196.488947</td>\n",
       "      <td>4.764069e+06</td>\n",
       "      <td>2</td>\n",
       "      <td>616</td>\n",
       "      <td>682</td>\n",
       "      <td>655</td>\n",
       "      <td>767</td>\n",
       "      <td>1669</td>\n",
       "      <td>1669</td>\n",
       "      <td>1922</td>\n",
       "      <td>2414</td>\n",
       "      <td>1726</td>\n",
       "      <td>1115</td>\n",
       "      <td>Class_2</td>\n",
       "      <td>Building</td>\n",
       "    </tr>\n",
       "    <tr>\n",
       "      <th>3</th>\n",
       "      <td>678191.453655</td>\n",
       "      <td>4.764067e+06</td>\n",
       "      <td>2</td>\n",
       "      <td>616</td>\n",
       "      <td>682</td>\n",
       "      <td>655</td>\n",
       "      <td>767</td>\n",
       "      <td>1669</td>\n",
       "      <td>1669</td>\n",
       "      <td>1922</td>\n",
       "      <td>2414</td>\n",
       "      <td>1726</td>\n",
       "      <td>1115</td>\n",
       "      <td>Class_2</td>\n",
       "      <td>Building</td>\n",
       "    </tr>\n",
       "    <tr>\n",
       "      <th>4</th>\n",
       "      <td>678193.971301</td>\n",
       "      <td>4.764067e+06</td>\n",
       "      <td>2</td>\n",
       "      <td>616</td>\n",
       "      <td>682</td>\n",
       "      <td>655</td>\n",
       "      <td>767</td>\n",
       "      <td>1669</td>\n",
       "      <td>1669</td>\n",
       "      <td>1922</td>\n",
       "      <td>2414</td>\n",
       "      <td>1726</td>\n",
       "      <td>1115</td>\n",
       "      <td>Class_2</td>\n",
       "      <td>Building</td>\n",
       "    </tr>\n",
       "  </tbody>\n",
       "</table>\n",
       "</div>"
      ],
      "text/plain": [
       "               x             y  Class_ID   B2   B3   B4   B5    B6    B7  \\\n",
       "0  678191.453655  4.764069e+06         2  616  682  655  767  1669  1669   \n",
       "1  678193.971301  4.764069e+06         2  616  682  655  767  1669  1669   \n",
       "2  678196.488947  4.764069e+06         2  616  682  655  767  1669  1669   \n",
       "3  678191.453655  4.764067e+06         2  616  682  655  767  1669  1669   \n",
       "4  678193.971301  4.764067e+06         2  616  682  655  767  1669  1669   \n",
       "\n",
       "     B8   B8A   B11   B12    Class Description  \n",
       "0  1922  2414  1726  1115  Class_2    Building  \n",
       "1  1922  2414  1726  1115  Class_2    Building  \n",
       "2  1922  2414  1726  1115  Class_2    Building  \n",
       "3  1922  2414  1726  1115  Class_2    Building  \n",
       "4  1922  2414  1726  1115  Class_2    Building  "
      ]
     },
     "execution_count": 3,
     "metadata": {},
     "output_type": "execute_result"
    }
   ],
   "source": [
    "dataset.head()"
   ]
  },
  {
   "cell_type": "code",
   "execution_count": 4,
   "metadata": {},
   "outputs": [
    {
     "data": {
      "text/plain": [
       "(array([[ 616,  682,  655, ..., 2414, 1726, 1115],\n",
       "        [ 616,  682,  655, ..., 2414, 1726, 1115],\n",
       "        [ 616,  682,  655, ..., 2414, 1726, 1115],\n",
       "        ...,\n",
       "        [ 337,  694,  445, ..., 4253, 2603, 1351],\n",
       "        [ 337,  694,  445, ..., 4253, 2603, 1351],\n",
       "        [ 337,  694,  445, ..., 4253, 2603, 1351]], dtype=int64),\n",
       " array([2, 2, 2, ..., 4, 4, 4], dtype=int64))"
      ]
     },
     "execution_count": 4,
     "metadata": {},
     "output_type": "execute_result"
    }
   ],
   "source": [
    "# 定义标签Y和特征X\n",
    "\n",
    "# TODO: Y: 读取Class_ID字段\n",
    "Y = dataset.iloc[:,2].values\n",
    "\n",
    "# TODO：总共10个特征，分别读取 'B2','B3','B4','B5','B6','B7','B8','B8A','B11','B12' 字段\n",
    "X = dataset.iloc[:,3:13].values\n",
    "\n",
    "X, Y"
   ]
  },
  {
   "cell_type": "code",
   "execution_count": 5,
   "metadata": {},
   "outputs": [],
   "source": [
    "#sns.countplot(Y)"
   ]
  },
  {
   "cell_type": "code",
   "execution_count": 6,
   "metadata": {},
   "outputs": [],
   "source": [
    "#sns.pairplot(dataset.iloc[:,3:14],hue='Class')"
   ]
  },
  {
   "cell_type": "code",
   "execution_count": 7,
   "metadata": {},
   "outputs": [
    {
     "data": {
      "text/plain": [
       "(23945, 5)"
      ]
     },
     "execution_count": 7,
     "metadata": {},
     "output_type": "execute_result"
    }
   ],
   "source": [
    "from sklearn.preprocessing import LabelEncoder\n",
    "encoder = LabelEncoder()\n",
    "Y1 = encoder.fit_transform(Y)\n",
    "Y2 = pd.get_dummies(Y1).values\n",
    "\n",
    "# TODO: 对Y做一个简单的转换（不然会在keras部分会出错） \n",
    "Y2.shape"
   ]
  },
  {
   "cell_type": "code",
   "execution_count": 8,
   "metadata": {},
   "outputs": [
    {
     "data": {
      "text/plain": [
       "((19156, 10), (4789, 10), (19156, 5), (4789, 5))"
      ]
     },
     "execution_count": 8,
     "metadata": {},
     "output_type": "execute_result"
    }
   ],
   "source": [
    "# 把数据分成训练数据和测试数据\n",
    "X_train, X_test, Y_train, Y_test = train_test_split(X, Y2, test_size=0.20, random_state=42)\n",
    "X_train.shape, X_test.shape, Y_train.shape, Y_test.shape"
   ]
  },
  {
   "cell_type": "code",
   "execution_count": 9,
   "metadata": {},
   "outputs": [
    {
     "data": {
      "text/plain": [
       "((19156, 10), (4789, 10))"
      ]
     },
     "execution_count": 9,
     "metadata": {},
     "output_type": "execute_result"
    }
   ],
   "source": [
    "# TODO: 做数据的归一化 （利用preporcessing.scale函数，详情查看官方文档）\n",
    "\n",
    "from sklearn import preprocessing\n",
    "stand_means = preprocessing.StandardScaler()\n",
    "\n",
    "X_train = stand_means.fit_transform(X_train)\n",
    "X_test =  stand_means.fit_transform(X_test)\n",
    "X_train.shape,X_test.shape"
   ]
  },
  {
   "cell_type": "code",
   "execution_count": 10,
   "metadata": {},
   "outputs": [],
   "source": [
    "# 定义深度学习模型： 模型总共包含4层hidden layer, 第一层包括50个hidden units, 第二层包括50个hidden units, 第三层包括60个hidden units, \n",
    "#                第四层包括40个hidden units. 并在第一层hidden layer和第二层hidden layer之间添加一个dropout layer (rate=0.2),\n",
    "#                在第二层和第三层hidden layer之间添加dropout layer（rate=0.2）, 第三层和第四层之间添加dropout layer（rate=0.1）。\n",
    "\n",
    "# TODO: 定义各类变量（比如输入维度的大小，输出维度的大小，hidden layer的unit个数等）\n",
    "from keras.models import Sequential\n",
    "from keras.layers import Dense,Dropout\n",
    "model = Sequential()\n",
    "model.add(Dense(50,input_shape=(10,),activation='relu'))\n",
    "model.add(Dropout(0.2))\n",
    "model.add(Dense(50,activation='relu'))\n",
    "model.add(Dropout(0.2))\n",
    "model.add(Dense(60,activation='relu'))\n",
    "model.add(Dropout(0.1))\n",
    "model.add(Dense(40,activation='relu'))\n",
    "model.add(Dense(5,activation='softmax'))\n"
   ]
  },
  {
   "cell_type": "code",
   "execution_count": 11,
   "metadata": {},
   "outputs": [
    {
     "name": "stdout",
     "output_type": "stream",
     "text": [
      "_________________________________________________________________\n",
      "Layer (type)                 Output Shape              Param #   \n",
      "=================================================================\n",
      "dense_1 (Dense)              (None, 50)                550       \n",
      "_________________________________________________________________\n",
      "dropout_1 (Dropout)          (None, 50)                0         \n",
      "_________________________________________________________________\n",
      "dense_2 (Dense)              (None, 50)                2550      \n",
      "_________________________________________________________________\n",
      "dropout_2 (Dropout)          (None, 50)                0         \n",
      "_________________________________________________________________\n",
      "dense_3 (Dense)              (None, 60)                3060      \n",
      "_________________________________________________________________\n",
      "dropout_3 (Dropout)          (None, 60)                0         \n",
      "_________________________________________________________________\n",
      "dense_4 (Dense)              (None, 40)                2440      \n",
      "_________________________________________________________________\n",
      "dense_5 (Dense)              (None, 5)                 205       \n",
      "=================================================================\n",
      "Total params: 8,805\n",
      "Trainable params: 8,805\n",
      "Non-trainable params: 0\n",
      "_________________________________________________________________\n"
     ]
    }
   ],
   "source": [
    "# 输出模型描述\n",
    "model.summary()"
   ]
  },
  {
   "cell_type": "code",
   "execution_count": 12,
   "metadata": {},
   "outputs": [],
   "source": [
    "#  定义SGD(stochastic gradient descent优化器)，学习率为0.01.  \n",
    "sgd = SGD(lr=0.01, decay=1e-6, momentum=0.9, nesterov=True)"
   ]
  },
  {
   "cell_type": "code",
   "execution_count": 13,
   "metadata": {},
   "outputs": [],
   "source": [
    "# 定义模型的compile函数，设置loss为sparse_categorical_crossentropy, 利用上面定义的sgd优化器，利用准确率作为评估标准\n",
    "model.compile(loss=keras.losses.categorical_crossentropy,optimizer=sgd,metrics=['accuracy'])"
   ]
  },
  {
   "cell_type": "code",
   "execution_count": 14,
   "metadata": {},
   "outputs": [
    {
     "name": "stdout",
     "output_type": "stream",
     "text": [
      "Train on 16282 samples, validate on 2874 samples\n",
      "Epoch 1/100\n",
      "16282/16282 [==============================] - 1s 45us/step - loss: 0.7496 - acc: 0.7386 - val_loss: 0.3162 - val_acc: 0.8977\n",
      "Epoch 2/100\n",
      "16282/16282 [==============================] - 0s 15us/step - loss: 0.3556 - acc: 0.8726 - val_loss: 0.2728 - val_acc: 0.9106\n",
      "Epoch 3/100\n",
      "16282/16282 [==============================] - 0s 16us/step - loss: 0.3140 - acc: 0.8865 - val_loss: 0.2563 - val_acc: 0.9026\n",
      "Epoch 4/100\n",
      "16282/16282 [==============================] - 0s 16us/step - loss: 0.2852 - acc: 0.8978 - val_loss: 0.2352 - val_acc: 0.9172\n",
      "Epoch 5/100\n",
      "16282/16282 [==============================] - 0s 15us/step - loss: 0.2648 - acc: 0.9047 - val_loss: 0.2151 - val_acc: 0.9290\n",
      "Epoch 6/100\n",
      "16282/16282 [==============================] - 0s 14us/step - loss: 0.2530 - acc: 0.9112 - val_loss: 0.2041 - val_acc: 0.9297\n",
      "Epoch 7/100\n",
      "16282/16282 [==============================] - 0s 14us/step - loss: 0.2346 - acc: 0.9191 - val_loss: 0.1961 - val_acc: 0.9308\n",
      "Epoch 8/100\n",
      "16282/16282 [==============================] - 0s 14us/step - loss: 0.2224 - acc: 0.9205 - val_loss: 0.1842 - val_acc: 0.9360\n",
      "Epoch 9/100\n",
      "16282/16282 [==============================] - 0s 14us/step - loss: 0.2103 - acc: 0.9248 - val_loss: 0.1759 - val_acc: 0.9419\n",
      "Epoch 10/100\n",
      "16282/16282 [==============================] - 0s 14us/step - loss: 0.1998 - acc: 0.9272 - val_loss: 0.1670 - val_acc: 0.9388\n",
      "Epoch 11/100\n",
      "16282/16282 [==============================] - 0s 14us/step - loss: 0.1894 - acc: 0.9314 - val_loss: 0.1558 - val_acc: 0.9530\n",
      "Epoch 12/100\n",
      "16282/16282 [==============================] - 0s 14us/step - loss: 0.1789 - acc: 0.9362 - val_loss: 0.1462 - val_acc: 0.9489\n",
      "Epoch 13/100\n",
      "16282/16282 [==============================] - 0s 14us/step - loss: 0.1674 - acc: 0.9396 - val_loss: 0.1372 - val_acc: 0.9520\n",
      "Epoch 14/100\n",
      "16282/16282 [==============================] - 0s 14us/step - loss: 0.1660 - acc: 0.9418 - val_loss: 0.1336 - val_acc: 0.9544\n",
      "Epoch 15/100\n",
      "16282/16282 [==============================] - 0s 14us/step - loss: 0.1611 - acc: 0.9417 - val_loss: 0.1369 - val_acc: 0.9513\n",
      "Epoch 16/100\n",
      "16282/16282 [==============================] - 0s 14us/step - loss: 0.1544 - acc: 0.9445 - val_loss: 0.1327 - val_acc: 0.9527\n",
      "Epoch 17/100\n",
      "16282/16282 [==============================] - 0s 15us/step - loss: 0.1444 - acc: 0.9475 - val_loss: 0.1248 - val_acc: 0.9593\n",
      "Epoch 18/100\n",
      "16282/16282 [==============================] - 0s 15us/step - loss: 0.1443 - acc: 0.9479 - val_loss: 0.1237 - val_acc: 0.9603\n",
      "Epoch 19/100\n",
      "16282/16282 [==============================] - 0s 14us/step - loss: 0.1408 - acc: 0.9487 - val_loss: 0.1138 - val_acc: 0.9596\n",
      "Epoch 20/100\n",
      "16282/16282 [==============================] - 0s 15us/step - loss: 0.1419 - acc: 0.9480 - val_loss: 0.1066 - val_acc: 0.9649\n",
      "Epoch 21/100\n",
      "16282/16282 [==============================] - 0s 14us/step - loss: 0.1323 - acc: 0.9530 - val_loss: 0.1124 - val_acc: 0.9607\n",
      "Epoch 22/100\n",
      "16282/16282 [==============================] - 0s 14us/step - loss: 0.1319 - acc: 0.9526 - val_loss: 0.1011 - val_acc: 0.9662\n",
      "Epoch 23/100\n",
      "16282/16282 [==============================] - 0s 14us/step - loss: 0.1261 - acc: 0.9548 - val_loss: 0.1025 - val_acc: 0.9656\n",
      "Epoch 24/100\n",
      "16282/16282 [==============================] - 0s 14us/step - loss: 0.1250 - acc: 0.9547 - val_loss: 0.1046 - val_acc: 0.9645\n",
      "Epoch 25/100\n",
      "16282/16282 [==============================] - 0s 14us/step - loss: 0.1223 - acc: 0.9552 - val_loss: 0.1015 - val_acc: 0.9683\n",
      "Epoch 26/100\n",
      "16282/16282 [==============================] - 0s 14us/step - loss: 0.1251 - acc: 0.9557 - val_loss: 0.1015 - val_acc: 0.9687\n",
      "Epoch 27/100\n",
      "16282/16282 [==============================] - 0s 15us/step - loss: 0.1223 - acc: 0.9571 - val_loss: 0.0962 - val_acc: 0.9656\n",
      "Epoch 28/100\n",
      "16282/16282 [==============================] - 0s 14us/step - loss: 0.1187 - acc: 0.9555 - val_loss: 0.0919 - val_acc: 0.9683\n",
      "Epoch 29/100\n",
      "16282/16282 [==============================] - 0s 14us/step - loss: 0.1162 - acc: 0.9587 - val_loss: 0.1116 - val_acc: 0.9628\n",
      "Epoch 30/100\n",
      "16282/16282 [==============================] - 0s 14us/step - loss: 0.1157 - acc: 0.9587 - val_loss: 0.0912 - val_acc: 0.9708\n",
      "Epoch 31/100\n",
      "16282/16282 [==============================] - 0s 15us/step - loss: 0.1113 - acc: 0.9604 - val_loss: 0.0917 - val_acc: 0.9708\n",
      "Epoch 32/100\n",
      "16282/16282 [==============================] - 0s 14us/step - loss: 0.1126 - acc: 0.9608 - val_loss: 0.1024 - val_acc: 0.9645\n",
      "Epoch 33/100\n",
      "16282/16282 [==============================] - 0s 14us/step - loss: 0.1084 - acc: 0.9613 - val_loss: 0.1026 - val_acc: 0.9638\n",
      "Epoch 34/100\n",
      "16282/16282 [==============================] - 0s 14us/step - loss: 0.1081 - acc: 0.9631 - val_loss: 0.1052 - val_acc: 0.9589\n",
      "Epoch 35/100\n",
      "16282/16282 [==============================] - 0s 14us/step - loss: 0.1092 - acc: 0.9616 - val_loss: 0.0873 - val_acc: 0.9708\n",
      "Epoch 36/100\n",
      "16282/16282 [==============================] - 0s 14us/step - loss: 0.1078 - acc: 0.9614 - val_loss: 0.0828 - val_acc: 0.9701\n",
      "Epoch 37/100\n",
      "16282/16282 [==============================] - 0s 14us/step - loss: 0.1031 - acc: 0.9615 - val_loss: 0.0760 - val_acc: 0.9736\n",
      "Epoch 38/100\n",
      "16282/16282 [==============================] - 0s 13us/step - loss: 0.1039 - acc: 0.9635 - val_loss: 0.0826 - val_acc: 0.9718\n",
      "Epoch 39/100\n",
      "16282/16282 [==============================] - 0s 13us/step - loss: 0.1044 - acc: 0.9635 - val_loss: 0.0783 - val_acc: 0.9746\n",
      "Epoch 40/100\n",
      "16282/16282 [==============================] - 0s 14us/step - loss: 0.1018 - acc: 0.9652 - val_loss: 0.0795 - val_acc: 0.9767\n",
      "Epoch 41/100\n",
      "16282/16282 [==============================] - 0s 14us/step - loss: 0.0963 - acc: 0.9643 - val_loss: 0.0722 - val_acc: 0.9791\n",
      "Epoch 42/100\n",
      "16282/16282 [==============================] - 0s 14us/step - loss: 0.0998 - acc: 0.9651 - val_loss: 0.0765 - val_acc: 0.9739\n",
      "Epoch 43/100\n",
      "16282/16282 [==============================] - 0s 13us/step - loss: 0.1004 - acc: 0.9649 - val_loss: 0.0736 - val_acc: 0.9756\n",
      "Epoch 44/100\n",
      "16282/16282 [==============================] - 0s 13us/step - loss: 0.0927 - acc: 0.9681 - val_loss: 0.0762 - val_acc: 0.9736\n",
      "Epoch 45/100\n",
      "16282/16282 [==============================] - 0s 13us/step - loss: 0.0967 - acc: 0.9659 - val_loss: 0.0867 - val_acc: 0.9704\n",
      "Epoch 46/100\n",
      "16282/16282 [==============================] - 0s 13us/step - loss: 0.0929 - acc: 0.9664 - val_loss: 0.0752 - val_acc: 0.9767\n",
      "Epoch 47/100\n",
      "16282/16282 [==============================] - 0s 13us/step - loss: 0.0944 - acc: 0.9668 - val_loss: 0.0646 - val_acc: 0.9798\n",
      "Epoch 48/100\n",
      "16282/16282 [==============================] - 0s 13us/step - loss: 0.0943 - acc: 0.9653 - val_loss: 0.0855 - val_acc: 0.9652\n",
      "Epoch 49/100\n",
      "16282/16282 [==============================] - 0s 13us/step - loss: 0.0974 - acc: 0.9653 - val_loss: 0.0728 - val_acc: 0.9743\n",
      "Epoch 50/100\n",
      "16282/16282 [==============================] - 0s 13us/step - loss: 0.0943 - acc: 0.9657 - val_loss: 0.0701 - val_acc: 0.9732\n",
      "Epoch 51/100\n",
      "16282/16282 [==============================] - 0s 13us/step - loss: 0.0926 - acc: 0.9676 - val_loss: 0.0675 - val_acc: 0.9791\n",
      "Epoch 52/100\n",
      "16282/16282 [==============================] - 0s 13us/step - loss: 0.0957 - acc: 0.9664 - val_loss: 0.0685 - val_acc: 0.9739\n",
      "Epoch 53/100\n",
      "16282/16282 [==============================] - 0s 13us/step - loss: 0.0904 - acc: 0.9671 - val_loss: 0.0668 - val_acc: 0.9777\n",
      "Epoch 54/100\n",
      "16282/16282 [==============================] - 0s 13us/step - loss: 0.0881 - acc: 0.9691 - val_loss: 0.0687 - val_acc: 0.9784\n",
      "Epoch 55/100\n",
      "16282/16282 [==============================] - 0s 13us/step - loss: 0.0871 - acc: 0.9704 - val_loss: 0.0704 - val_acc: 0.9798\n",
      "Epoch 56/100\n",
      "16282/16282 [==============================] - 0s 13us/step - loss: 0.0886 - acc: 0.9687 - val_loss: 0.0613 - val_acc: 0.9819\n",
      "Epoch 57/100\n",
      "16282/16282 [==============================] - 0s 14us/step - loss: 0.0839 - acc: 0.9701 - val_loss: 0.0631 - val_acc: 0.9823\n",
      "Epoch 58/100\n",
      "16282/16282 [==============================] - 0s 14us/step - loss: 0.0879 - acc: 0.9690 - val_loss: 0.0580 - val_acc: 0.9788\n",
      "Epoch 59/100\n",
      "16282/16282 [==============================] - 0s 13us/step - loss: 0.0924 - acc: 0.9676 - val_loss: 0.0641 - val_acc: 0.9812\n",
      "Epoch 60/100\n",
      "16282/16282 [==============================] - 0s 13us/step - loss: 0.0908 - acc: 0.9671 - val_loss: 0.0589 - val_acc: 0.9819\n",
      "Epoch 61/100\n",
      "16282/16282 [==============================] - 0s 13us/step - loss: 0.0806 - acc: 0.9717 - val_loss: 0.0575 - val_acc: 0.9826\n",
      "Epoch 62/100\n",
      "16282/16282 [==============================] - 0s 13us/step - loss: 0.0882 - acc: 0.9691 - val_loss: 0.0633 - val_acc: 0.9784\n",
      "Epoch 63/100\n",
      "16282/16282 [==============================] - 0s 13us/step - loss: 0.0891 - acc: 0.9689 - val_loss: 0.0604 - val_acc: 0.9798\n",
      "Epoch 64/100\n",
      "16282/16282 [==============================] - 0s 13us/step - loss: 0.0854 - acc: 0.9697 - val_loss: 0.0553 - val_acc: 0.9823\n",
      "Epoch 65/100\n",
      "16282/16282 [==============================] - 0s 13us/step - loss: 0.0812 - acc: 0.9719 - val_loss: 0.0832 - val_acc: 0.9673\n",
      "Epoch 66/100\n",
      "16282/16282 [==============================] - 0s 13us/step - loss: 0.0815 - acc: 0.9720 - val_loss: 0.0650 - val_acc: 0.9777\n",
      "Epoch 67/100\n",
      "16282/16282 [==============================] - 0s 13us/step - loss: 0.0844 - acc: 0.9702 - val_loss: 0.0588 - val_acc: 0.9791\n",
      "Epoch 68/100\n",
      "16282/16282 [==============================] - 0s 13us/step - loss: 0.0821 - acc: 0.9718 - val_loss: 0.0663 - val_acc: 0.9746\n",
      "Epoch 69/100\n",
      "16282/16282 [==============================] - 0s 13us/step - loss: 0.0822 - acc: 0.9715 - val_loss: 0.0634 - val_acc: 0.9753\n",
      "Epoch 70/100\n",
      "16282/16282 [==============================] - 0s 13us/step - loss: 0.0788 - acc: 0.9732 - val_loss: 0.0567 - val_acc: 0.9809\n",
      "Epoch 71/100\n",
      "16282/16282 [==============================] - 0s 13us/step - loss: 0.0801 - acc: 0.9725 - val_loss: 0.0576 - val_acc: 0.9816\n",
      "Epoch 72/100\n",
      "16282/16282 [==============================] - 0s 13us/step - loss: 0.0831 - acc: 0.9714 - val_loss: 0.0649 - val_acc: 0.9791\n",
      "Epoch 73/100\n",
      "16282/16282 [==============================] - 0s 13us/step - loss: 0.0787 - acc: 0.9729 - val_loss: 0.0600 - val_acc: 0.9812\n",
      "Epoch 74/100\n",
      "16282/16282 [==============================] - 0s 13us/step - loss: 0.0770 - acc: 0.9729 - val_loss: 0.0690 - val_acc: 0.9739\n",
      "Epoch 75/100\n",
      "16282/16282 [==============================] - 0s 13us/step - loss: 0.0814 - acc: 0.9719 - val_loss: 0.0560 - val_acc: 0.9819\n",
      "Epoch 76/100\n",
      "16282/16282 [==============================] - 0s 13us/step - loss: 0.0737 - acc: 0.9735 - val_loss: 0.0474 - val_acc: 0.9826\n",
      "Epoch 77/100\n",
      "16282/16282 [==============================] - 0s 13us/step - loss: 0.0809 - acc: 0.9722 - val_loss: 0.0505 - val_acc: 0.9836\n",
      "Epoch 78/100\n",
      "16282/16282 [==============================] - 0s 13us/step - loss: 0.0767 - acc: 0.9729 - val_loss: 0.0684 - val_acc: 0.9760\n",
      "Epoch 79/100\n",
      "16282/16282 [==============================] - 0s 13us/step - loss: 0.0782 - acc: 0.9724 - val_loss: 0.0563 - val_acc: 0.9816\n",
      "Epoch 80/100\n",
      "16282/16282 [==============================] - 0s 13us/step - loss: 0.0749 - acc: 0.9743 - val_loss: 0.0507 - val_acc: 0.9854\n",
      "Epoch 81/100\n",
      "16282/16282 [==============================] - 0s 13us/step - loss: 0.0760 - acc: 0.9730 - val_loss: 0.0510 - val_acc: 0.9823\n",
      "Epoch 82/100\n",
      "16282/16282 [==============================] - 0s 13us/step - loss: 0.0766 - acc: 0.9756 - val_loss: 0.0506 - val_acc: 0.9805\n",
      "Epoch 83/100\n",
      "16282/16282 [==============================] - 0s 13us/step - loss: 0.0784 - acc: 0.9730 - val_loss: 0.0599 - val_acc: 0.9802\n",
      "Epoch 84/100\n",
      "16282/16282 [==============================] - 0s 13us/step - loss: 0.0733 - acc: 0.9740 - val_loss: 0.0507 - val_acc: 0.9812\n",
      "Epoch 85/100\n",
      "16282/16282 [==============================] - 0s 13us/step - loss: 0.0753 - acc: 0.9741 - val_loss: 0.0714 - val_acc: 0.9749\n",
      "Epoch 86/100\n",
      "16282/16282 [==============================] - 0s 13us/step - loss: 0.0783 - acc: 0.9717 - val_loss: 0.0665 - val_acc: 0.9784\n",
      "Epoch 87/100\n",
      "16282/16282 [==============================] - 0s 13us/step - loss: 0.0726 - acc: 0.9745 - val_loss: 0.0500 - val_acc: 0.9847\n",
      "Epoch 88/100\n",
      "16282/16282 [==============================] - 0s 13us/step - loss: 0.0715 - acc: 0.9750 - val_loss: 0.0479 - val_acc: 0.9833\n",
      "Epoch 89/100\n",
      "16282/16282 [==============================] - 0s 13us/step - loss: 0.0748 - acc: 0.9730 - val_loss: 0.0448 - val_acc: 0.9840\n",
      "Epoch 90/100\n",
      "16282/16282 [==============================] - 0s 13us/step - loss: 0.0782 - acc: 0.9717 - val_loss: 0.0507 - val_acc: 0.9847\n",
      "Epoch 91/100\n",
      "16282/16282 [==============================] - 0s 13us/step - loss: 0.0720 - acc: 0.9745 - val_loss: 0.0441 - val_acc: 0.9878\n",
      "Epoch 92/100\n",
      "16282/16282 [==============================] - 0s 13us/step - loss: 0.0738 - acc: 0.9735 - val_loss: 0.0481 - val_acc: 0.9823\n",
      "Epoch 93/100\n",
      "16282/16282 [==============================] - 0s 13us/step - loss: 0.0715 - acc: 0.9753 - val_loss: 0.0651 - val_acc: 0.9770\n",
      "Epoch 94/100\n",
      "16282/16282 [==============================] - 0s 13us/step - loss: 0.0698 - acc: 0.9757 - val_loss: 0.0451 - val_acc: 0.9868\n",
      "Epoch 95/100\n",
      "16282/16282 [==============================] - 0s 13us/step - loss: 0.0692 - acc: 0.9745 - val_loss: 0.0611 - val_acc: 0.9767\n",
      "Epoch 96/100\n",
      "16282/16282 [==============================] - 0s 13us/step - loss: 0.0717 - acc: 0.9754 - val_loss: 0.0493 - val_acc: 0.9819\n",
      "Epoch 97/100\n",
      "16282/16282 [==============================] - 0s 14us/step - loss: 0.0710 - acc: 0.9754 - val_loss: 0.0478 - val_acc: 0.9850\n",
      "Epoch 98/100\n",
      "16282/16282 [==============================] - 0s 13us/step - loss: 0.0663 - acc: 0.9775 - val_loss: 0.0451 - val_acc: 0.9826\n",
      "Epoch 99/100\n",
      "16282/16282 [==============================] - 0s 13us/step - loss: 0.0698 - acc: 0.9748 - val_loss: 0.0509 - val_acc: 0.9774\n",
      "Epoch 100/100\n",
      "16282/16282 [==============================] - 0s 13us/step - loss: 0.0680 - acc: 0.9754 - val_loss: 0.0470 - val_acc: 0.9857\n"
     ]
    }
   ],
   "source": [
    "# TODO: 训练模型，设置epoch为100， batch_Size为100，并把训练数据中的15%作为validation data(验证集), 把中间的结果都赋给history变量（后面做分析用）             \n",
    "history = model.fit(X_train,Y_train,batch_size=100,epochs=100,validation_split=0.15)"
   ]
  },
  {
   "cell_type": "code",
   "execution_count": 15,
   "metadata": {},
   "outputs": [
    {
     "data": {
      "image/png": "[encoded data removed]",
      "text/plain": [
       "<Figure size 432x288 with 1 Axes>"
      ]
     },
     "metadata": {
      "needs_background": "light"
     },
     "output_type": "display_data"
    }
   ],
   "source": [
    "# 画一个图来表示准确率的变化情况（分别在训练数据和测试数据）\n",
    "plt.plot(history.history['acc'])\n",
    "plt.plot(history.history['val_acc'])\n",
    "plt.title('accuracy')\n",
    "plt.ylabel('accuracy')\n",
    "plt.xlabel('epoch')\n",
    "plt.legend(['train', 'test'], loc='lower right')\n",
    "plt.show()"
   ]
  },
  {
   "cell_type": "code",
   "execution_count": 16,
   "metadata": {},
   "outputs": [
    {
     "data": {
      "image/png": "[encoded data removed]",
      "text/plain": [
       "<Figure size 432x288 with 1 Axes>"
      ]
     },
     "metadata": {
      "needs_background": "light"
     },
     "output_type": "display_data"
    }
   ],
   "source": [
    "# 画一个图来表示LOSS的变化情况（分别在训练数据和测试数据）\n",
    "plt.plot(history.history['loss'])\n",
    "plt.plot(history.history['val_loss'])\n",
    "plt.title('loss')\n",
    "plt.ylabel('loss')\n",
    "plt.xlabel('epoch')\n",
    "plt.legend(['train', 'test'], loc='upper right')\n",
    "plt.show()"
   ]
  },
  {
   "cell_type": "code",
   "execution_count": 17,
   "metadata": {},
   "outputs": [
    {
     "name": "stdout",
     "output_type": "stream",
     "text": [
      "4789/4789 [==============================] - 0s 4us/step\n",
      "[0.05087485429351478, 0.9793276371600409]\n",
      "Baseline Error: 2.07%\n"
     ]
    }
   ],
   "source": [
    "# 在测试数据上做评估\n",
    "Y_pred = model.predict(X_test)\n",
    "score = model.evaluate(X_test, Y_test, batch_size=100, verbose=1)\n",
    "print(score)\n",
    "print(\"Baseline Error: %.2f%%\" % (100-score[1]*100))"
   ]
  },
  {
   "cell_type": "code",
   "execution_count": 18,
   "metadata": {},
   "outputs": [],
   "source": [
    "# 预测结果\n",
    "test_class = model.predict_classes(X_test)"
   ]
  },
  {
   "cell_type": "code",
   "execution_count": 19,
   "metadata": {},
   "outputs": [],
   "source": [
    "test_class1 = encoder.fit_transform(test_class)\n",
    "test_class2 = pd.get_dummies(test_class1).values\n",
    "Y_true = np.reshape(Y_test, [-1])\n",
    "Y_pree = np.reshape(test_class2, [-1])"
   ]
  },
  {
   "cell_type": "code",
   "execution_count": 20,
   "metadata": {},
   "outputs": [
    {
     "data": {
      "text/plain": [
       "array([[19057,    99],\n",
       "       [   99,  4690]], dtype=int64)"
      ]
     },
     "execution_count": 20,
     "metadata": {},
     "output_type": "execute_result"
    }
   ],
   "source": [
    "# TODO: 画混淆矩阵（confusion matrix）\n",
    "from sklearn.metrics import confusion_matrix\n",
    "confusion_matrix(Y_true,Y_pree)"
   ]
  },
  {
   "cell_type": "code",
   "execution_count": 21,
   "metadata": {},
   "outputs": [
    {
     "data": {
      "text/plain": [
       "(0.979327625809146, 0.979327625809146, 0.979327625809146)"
      ]
     },
     "execution_count": 21,
     "metadata": {},
     "output_type": "execute_result"
    }
   ],
   "source": [
    "# TODO: 输出在测试集上的precision, recall, f1-score\n",
    "from sklearn.metrics import precision_score, recall_score, f1_score\n",
    "p = precision_score(Y_true, Y_pree, average = 'binary')\n",
    "r = recall_score(Y_true, Y_pree, average='binary')\n",
    "f1 = f1_score(Y_true, Y_pree, average='binary')\n",
    "p,r,f1"
   ]
  },
  {
   "cell_type": "code",
   "execution_count": null,
   "metadata": {},
   "outputs": [],
   "source": []
  }
 ],
 "metadata": {
  "kernelspec": {
   "display_name": "Python 3",
   "language": "python",
   "name": "python3"
  },
  "language_info": {
   "codemirror_mode": {
    "name": "ipython",
    "version": 3
   },
   "file_extension": ".py",
   "mimetype": "text/x-python",
   "name": "python",
   "nbconvert_exporter": "python",
   "pygments_lexer": "ipython3",
   "version": "3.6.9"
  }
 },
 "nbformat": 4,
 "nbformat_minor": 2
}
